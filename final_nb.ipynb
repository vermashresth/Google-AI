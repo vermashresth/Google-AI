{
 "cells": [
  {
   "cell_type": "code",
   "execution_count": 1,
   "id": "dd09f8c3",
   "metadata": {},
   "outputs": [],
   "source": [
    "import pandas as pd\n",
    "import numpy as np\n",
    "import sklearn\n",
    "import matplotlib.pyplot as plt\n",
    "from sklearn import preprocessing, svm\n",
    "from sklearn.model_selection import train_test_split\n",
    "from sklearn.linear_model import LinearRegression\n",
    "from sklearn.metrics import mean_squared_error\n",
    "from sklearn.metrics import classification_report, confusion_matrix\n",
    "from sklearn.neural_network import MLPClassifier\n",
    "from sklearn.neural_network import MLPRegressor\n",
    "from math import sqrt\n",
    "from sklearn.metrics import r2_score, accuracy_score\n",
    "import matplotlib.pyplot as plt\n",
    "import plotly.express as px\n",
    "import math\n",
    "import copy"
   ]
  },
  {
   "cell_type": "code",
   "execution_count": 2,
   "id": "1da1a8ad",
   "metadata": {},
   "outputs": [
    {
     "name": "stderr",
     "output_type": "stream",
     "text": [
      "/opt/anaconda3/envs/rmnenv/lib/python3.8/site-packages/IPython/core/interactiveshell.py:3457: DtypeWarning: Columns (12) have mixed types.Specify dtype option on import or set low_memory=False.\n",
      "  exec(code_obj, self.user_global_ns, self.user_ns)\n"
     ]
    }
   ],
   "source": [
    "data = pd.read_csv('final_valid_demographic.csv')\n",
    "N = data.shape[0]\n",
    "df = pd.DataFrame(data, columns= [\n",
    "                                  'age', 'enrollment_gestation_age',\n",
    "                                  'lmp_date', 'lmp_for_program', \n",
    "                                  'registration_date', 'date_registration_hospital', 'entry_date',  \n",
    "                                  'delivery_date', 'edd', 'delivery_date_for_program', \n",
    "                                  'term_of_delivery', 'place_of_delivery', 'type_of_delivery',\n",
    "                                  'enrollment_delivery_status', 'registered_pregnancy', 'ppc_cesarean', \n",
    "                                  'current_stage_id', 'channel_type', 'education_id', 'income_bracket', \n",
    "                                  'g', 'p', 's', 'l', 'a', 'channel_id',\n",
    "                                  'registered_where', 'planned_place_of_delivery', \n",
    "                                  'true_lmp_date', 'true_gest_age',\n",
    "                                  'is_delivered', \n",
    "                                  'is_ppc_cesarean', 'is_full_term', 'is_pre_term', 'is_private_place', \n",
    "                                  'is_guv_place', 'is_home_place', 'is_other_place', 'is_normal_type', \n",
    "                                  'is_cesarean_type', 'is_private_reg', 'is_guv_reg', 'is_private_plan', \n",
    "                                  'is_guv_plan', 'is_other_plan', \n",
    "                                  'stage_1', 'stage_2', 'stage_3', 'stage_4', \n",
    "                                  'ch_type_1', 'ch_type_2', 'ch_type_3', 'ch_type_4', \n",
    "                                  'edu_1', 'edu_2', 'edu_3', 'edu_4', 'edu_5', 'edu_6', 'edu_7', \n",
    "                                  'income_1', 'income_2', 'income_3', 'income_4', 'income_5', 'income_6', 'income_7',\n",
    "                                 ])"
   ]
  },
  {
   "cell_type": "code",
   "execution_count": 3,
   "id": "22fba068",
   "metadata": {},
   "outputs": [
    {
     "name": "stdout",
     "output_type": "stream",
     "text": [
      "1.8241122105811378\n"
     ]
    }
   ],
   "source": [
    "gest_age_error = df.true_gest_age / 7 - df.enrollment_gestation_age\n",
    "print(np.var(gest_age_error))"
   ]
  },
  {
   "cell_type": "code",
   "execution_count": 4,
   "id": "e3b4695f",
   "metadata": {},
   "outputs": [],
   "source": [
    "labels = df.true_gest_age\n",
    "labels = np.reshape(labels, (N))\n",
    "features_ = [\n",
    "            df['age'], df['registered_pregnancy'],  \n",
    "            df['g'], df['p'], df['s'], df['l'], df['a'], \n",
    "            df['is_ppc_cesarean'],  \n",
    "            df['is_full_term'], df['is_pre_term'], \n",
    "            df['is_delivered'], \n",
    "            df['is_private_place'], df['is_guv_place'], df['is_home_place'], df['is_other_place'], \n",
    "            df['is_normal_type'], df['is_cesarean_type'],\n",
    "            df['is_private_reg'], df['is_guv_reg'], \n",
    "            df['is_private_plan'], df['is_guv_plan'], df['is_other_plan'],\n",
    "            df['stage_1'], df['stage_2'], df['stage_3'], df['stage_4'], \n",
    "            df['ch_type_1'], df['ch_type_2'], df['ch_type_3'], df['ch_type_4'], \n",
    "            df['edu_1'], df['edu_2'], df['edu_3'], df['edu_4'], df['edu_5'], df['edu_6'], df['edu_7'], \n",
    "            df['income_1'], df['income_2'], df['income_3'], df['income_4'], df['income_5'], \n",
    "            df['income_6'], df['income_7'], \n",
    "           ]\n",
    "features = np.array(features_)\n",
    "features = features.transpose()"
   ]
  },
  {
   "cell_type": "code",
   "execution_count": 7,
   "id": "e91134a7",
   "metadata": {},
   "outputs": [
    {
     "name": "stdout",
     "output_type": "stream",
     "text": [
      "(117855, 44)\n"
     ]
    }
   ],
   "source": [
    "print(features.shape)"
   ]
  },
  {
   "cell_type": "code",
   "execution_count": 5,
   "id": "7cd2ecb1",
   "metadata": {},
   "outputs": [
    {
     "name": "stdout",
     "output_type": "stream",
     "text": [
      "0.08674083084705708\n"
     ]
    },
    {
     "data": {
      "image/png": "[encoded data removed]",
      "text/plain": [
       "<Figure size 432x288 with 1 Axes>"
      ]
     },
     "metadata": {
      "needs_background": "light"
     },
     "output_type": "display_data"
    }
   ],
   "source": [
    "x_train, x_test, y_train, y_test = train_test_split(features, labels, test_size = 0.30)\n",
    "regr = LinearRegression()\n",
    "model = regr.fit(x_train, y_train)\n",
    "print(model.score(x_test, y_test))\n",
    "predictions = regr.predict(x_test)\n",
    "# print(mean_squared_error(y_test, predictions))\n",
    "residuals = y_test - predictions\n",
    "plt.scatter(residuals,predictions)\n",
    "plt.show()"
   ]
  },
  {
   "cell_type": "code",
   "execution_count": 6,
   "id": "c0f33d32",
   "metadata": {},
   "outputs": [
    {
     "name": "stderr",
     "output_type": "stream",
     "text": [
      "/opt/anaconda3/envs/rmnenv/lib/python3.8/site-packages/sklearn/neural_network/_multilayer_perceptron.py:692: ConvergenceWarning: Stochastic Optimizer: Maximum iterations (50) reached and the optimization hasn't converged yet.\n",
      "  warnings.warn(\n"
     ]
    },
    {
     "name": "stdout",
     "output_type": "stream",
     "text": [
      "0.006646491500975762\n"
     ]
    }
   ],
   "source": [
    "mlp = MLPClassifier(hidden_layer_sizes=(8,4), activation='relu', solver='adam', max_iter=50)\n",
    "mlp.fit(x_train,y_train)\n",
    "predict_train = mlp.predict(x_train)\n",
    "predict_test = mlp.predict(x_test)\n",
    "print(mlp.score(x_test, y_test))\n",
    "# print(mean_squared_error(y_test, predict_test))"
   ]
  },
  {
   "cell_type": "code",
   "execution_count": null,
   "id": "5542f265",
   "metadata": {},
   "outputs": [],
   "source": []
  }
 ],
 "metadata": {
  "kernelspec": {
   "display_name": "Python 3 (ipykernel)",
   "language": "python",
   "name": "python3"
  },
  "language_info": {
   "codemirror_mode": {
    "name": "ipython",
    "version": 3
   },
   "file_extension": ".py",
   "mimetype": "text/x-python",
   "name": "python",
   "nbconvert_exporter": "python",
   "pygments_lexer": "ipython3",
   "version": "3.8.12"
  }
 },
 "nbformat": 4,
 "nbformat_minor": 5
}
